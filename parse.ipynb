{
 "cells": [
  {
   "cell_type": "code",
   "execution_count": null,
   "metadata": {},
   "outputs": [
    {
     "ename": "",
     "evalue": "",
     "output_type": "error",
     "traceback": [
      "\u001b[1;31mRunning cells with 'c:\\Users\\AJAY\\AppData\\Local\\Programs\\Python\\Python311\\python.exe' requires the ipykernel package.\n",
      "\u001b[1;31mRun the following command to install 'ipykernel' into the Python environment. \n",
      "\u001b[1;31mCommand: 'c:/Users/AJAY/AppData/Local/Programs/Python/Python311/python.exe -m pip install ipykernel -U --user --force-reinstall'"
     ]
    }
   ],
   "source": [
    "import pandas as pd\n",
    "import numpy as np\n",
    "\n",
    "data = pd.read_csv('packets.tsv', sep='\\t', header=None)\n",
    "\n",
    "data.columns = ['time', 'src', 'dst', 'data']\n",
    "\n",
    "data.to_csv('packets.csv', index=False)"
   ]
  },
  {
   "cell_type": "code",
   "execution_count": null,
   "metadata": {},
   "outputs": [],
   "source": [
    "energy_consumption = pd.read_csv('yo.tsv', sep=' ', header=None)\n",
    "energy_consumption.columns = [\"Mote\", \"Radio on (%)\", \"Radio TX (%)\", \"Radio RX (%)\"]\n",
    "\n",
    "energy_consumption.to_csv('yo.csv', index=False)"
   ]
  },
  {
   "cell_type": "code",
   "execution_count": 6,
   "metadata": {},
   "outputs": [
    {
     "data": {
      "text/html": [
       "<div>\n",
       "<style scoped>\n",
       "    .dataframe tbody tr th:only-of-type {\n",
       "        vertical-align: middle;\n",
       "    }\n",
       "\n",
       "    .dataframe tbody tr th {\n",
       "        vertical-align: top;\n",
       "    }\n",
       "\n",
       "    .dataframe thead th {\n",
       "        text-align: right;\n",
       "    }\n",
       "</style>\n",
       "<table border=\"1\" class=\"dataframe\">\n",
       "  <thead>\n",
       "    <tr style=\"text-align: right;\">\n",
       "      <th></th>\n",
       "      <th>time</th>\n",
       "      <th>src</th>\n",
       "      <th>dst</th>\n",
       "      <th>data</th>\n",
       "    </tr>\n",
       "  </thead>\n",
       "  <tbody>\n",
       "    <tr>\n",
       "      <th>0</th>\n",
       "      <td>1537</td>\n",
       "      <td>2</td>\n",
       "      <td>-</td>\n",
       "      <td>64: 0x41C801CD ABFFFF02 02020002 74120041 6000...</td>\n",
       "    </tr>\n",
       "    <tr>\n",
       "      <th>1</th>\n",
       "      <td>1540</td>\n",
       "      <td>2</td>\n",
       "      <td>-</td>\n",
       "      <td>64: 0x41C801CD ABFFFF02 02020002 74120041 6000...</td>\n",
       "    </tr>\n",
       "    <tr>\n",
       "      <th>2</th>\n",
       "      <td>1543</td>\n",
       "      <td>2</td>\n",
       "      <td>1</td>\n",
       "      <td>64: 0x41C801CD ABFFFF02 02020002 74120041 6000...</td>\n",
       "    </tr>\n",
       "    <tr>\n",
       "      <th>3</th>\n",
       "      <td>1547</td>\n",
       "      <td>2</td>\n",
       "      <td>-</td>\n",
       "      <td>64: 0x41C801CD ABFFFF02 02020002 74120041 6000...</td>\n",
       "    </tr>\n",
       "    <tr>\n",
       "      <th>4</th>\n",
       "      <td>1550</td>\n",
       "      <td>2</td>\n",
       "      <td>-</td>\n",
       "      <td>64: 0x41C801CD ABFFFF02 02020002 74120041 6000...</td>\n",
       "    </tr>\n",
       "  </tbody>\n",
       "</table>\n",
       "</div>"
      ],
      "text/plain": [
       "   time  src dst                                               data\n",
       "0  1537    2   -  64: 0x41C801CD ABFFFF02 02020002 74120041 6000...\n",
       "1  1540    2   -  64: 0x41C801CD ABFFFF02 02020002 74120041 6000...\n",
       "2  1543    2   1  64: 0x41C801CD ABFFFF02 02020002 74120041 6000...\n",
       "3  1547    2   -  64: 0x41C801CD ABFFFF02 02020002 74120041 6000...\n",
       "4  1550    2   -  64: 0x41C801CD ABFFFF02 02020002 74120041 6000..."
      ]
     },
     "execution_count": 6,
     "metadata": {},
     "output_type": "execute_result"
    }
   ],
   "source": [
    "data.head()"
   ]
  },
  {
   "cell_type": "markdown",
   "metadata": {},
   "source": [
    "# Packet Delivery Ratio"
   ]
  },
  {
   "cell_type": "code",
   "execution_count": 7,
   "metadata": {},
   "outputs": [
    {
     "name": "stdout",
     "output_type": "stream",
     "text": [
      "Total Transmitted Packets: 2688\n",
      "Total Received Packets: 524\n",
      "Packet Delivery Ratio: 19.49%\n"
     ]
    },
    {
     "data": {
      "image/png": "[encoded data removed]",
      "text/plain": [
       "<Figure size 432x288 with 1 Axes>"
      ]
     },
     "metadata": {},
     "output_type": "display_data"
    }
   ],
   "source": [
    "import pandas as pd\n",
    "import matplotlib.pyplot as plt\n",
    "\n",
    "# Load the radio messages into a DataFrame (replace 'data.csv' with your file)\n",
    "df = pd.read_csv('packets.csv')\n",
    "\n",
    "# Count transmitted packets\n",
    "total_transmitted = len(df)\n",
    "\n",
    "# Identify successfully received packets\n",
    "successfully_received = df[df['dst'] != '-']\n",
    "\n",
    "# Count successfully received packets\n",
    "total_received = len(successfully_received)\n",
    "\n",
    "# Calculate PDR\n",
    "pdr = (total_received / total_transmitted) * 100\n",
    "\n",
    "print(f'Total Transmitted Packets: {total_transmitted}')\n",
    "print(f'Total Received Packets: {total_received}')\n",
    "print(f'Packet Delivery Ratio: {pdr:.2f}%')\n",
    "\n",
    "# Plotting\n",
    "labels = ['Total Transmitted', 'Total Received']\n",
    "values = [total_transmitted, total_received]\n",
    "\n",
    "plt.bar(labels, values, color=['blue', 'green'])\n",
    "plt.ylabel('Number of Packets')\n",
    "plt.title('Packet Delivery Ratio (PDR)')\n",
    "plt.show()\n"
   ]
  },
  {
   "cell_type": "markdown",
   "metadata": {},
   "source": [
    "# End to End Delay"
   ]
  },
  {
   "cell_type": "code",
   "execution_count": 14,
   "metadata": {},
   "outputs": [
    {
     "name": "stdout",
     "output_type": "stream",
     "text": [
      "Node 2: Average End-to-End Delay = 1357.666666 seconds\n",
      "Node 1: Average End-to-End Delay = 205.576744 seconds\n",
      "Node 6: Average End-to-End Delay = 1156.235294 seconds\n",
      "Node 9: Average End-to-End Delay = 1537.461538 seconds\n",
      "Node 5: Average End-to-End Delay = 1398.965517 seconds\n",
      "Node 10: Average End-to-End Delay = 1241.516129 seconds\n",
      "Node 8: Average End-to-End Delay = 1523.782608 seconds\n",
      "Node 11: Average End-to-End Delay = 869.260869 seconds\n",
      "Node 3: Average End-to-End Delay = 1114.828571 seconds\n",
      "Node 4: Average End-to-End Delay = 915.121212 seconds\n",
      "Node 7: Average End-to-End Delay = 952.681818 seconds\n"
     ]
    }
   ],
   "source": [
    "import pandas as pd\n",
    "import matplotlib.pyplot as plt\n",
    "import numpy as np\n",
    "\n",
    "# Load the radio messages into a DataFrame (replace 'data.csv' with your file)\n",
    "df = pd.read_csv('packets.csv')\n",
    "\n",
    "# Convert the 'time' column to datetime for easier calculations\n",
    "df['time'] = pd.to_datetime(df['time'], unit='s')\n",
    "\n",
    "# Identify successfully received packets\n",
    "successfully_received = df[df['dst'] != '-'].copy()  # Make a copy to avoid the SettingWithCopyWarning\n",
    "\n",
    "# Calculate end-to-end delay\n",
    "successfully_received['end_to_end_delay'] = successfully_received.groupby('src')['time'].diff().fillna(pd.Timedelta(seconds=0))\n",
    "\n",
    "# Print data used for the histogram\n",
    "nodes = successfully_received['src'].unique()\n",
    "average_delays = []\n",
    "\n",
    "for i, node in enumerate(nodes):\n",
    "    node_data = successfully_received[successfully_received['src'] == node]\n",
    "    average_delay = node_data['end_to_end_delay'].mean().total_seconds()\n",
    "    average_delays.append(average_delay)\n",
    "\n",
    "    # Print data for each node\n",
    "    print(f'Node {node}: Average End-to-End Delay = {average_delay} seconds')"
   ]
  },
  {
   "cell_type": "code",
   "execution_count": 13,
   "metadata": {},
   "outputs": [
    {
     "name": "stderr",
     "output_type": "stream",
     "text": [
      "C:\\Users\\HP\\AppData\\Local\\Temp\\ipykernel_24388\\3559621885.py:14: SettingWithCopyWarning: \n",
      "A value is trying to be set on a copy of a slice from a DataFrame.\n",
      "Try using .loc[row_indexer,col_indexer] = value instead\n",
      "\n",
      "See the caveats in the documentation: https://pandas.pydata.org/pandas-docs/stable/user_guide/indexing.html#returning-a-view-versus-a-copy\n",
      "  successfully_received['end_to_end_delay'] = successfully_received.groupby('src')['time'].diff().fillna(pd.Timedelta(seconds=0))\n"
     ]
    },
    {
     "data": {
      "image/png": "[encoded data removed]",
      "text/plain": [
       "<Figure size 576x432 with 1 Axes>"
      ]
     },
     "metadata": {},
     "output_type": "display_data"
    }
   ],
   "source": [
    "import pandas as pd\n",
    "import matplotlib.pyplot as plt\n",
    "\n",
    "# Load the radio messages into a DataFrame (replace 'data.csv' with your file)\n",
    "df = pd.read_csv('packets.csv')\n",
    "\n",
    "# Convert the 'time' column to datetime for easier calculations\n",
    "df['time'] = pd.to_datetime(df['time'], unit='s')\n",
    "\n",
    "# Identify successfully received packets\n",
    "successfully_received = df[df['dst'] != '-']\n",
    "\n",
    "# Calculate end-to-end delay\n",
    "successfully_received['end_to_end_delay'] = successfully_received.groupby('src')['time'].diff().fillna(pd.Timedelta(seconds=0))\n",
    "\n",
    "# Calculate overall average end-to-end delay\n",
    "overall_average_delay = successfully_received['end_to_end_delay'].mean().total_seconds()\n",
    "\n",
    "# Count total transmitted packets\n",
    "total_transmitted = len(df)\n",
    "\n",
    "# Plotting Overall Average End-to-End Delay in terms of Total Packets\n",
    "plt.figure(figsize=(8, 6))\n",
    "plt.bar('Overall', overall_average_delay, color='blue', label='Average End-to-End Delay')\n",
    "plt.bar('Overall', total_transmitted, color='green', alpha=0.5, label='Total Transmitted Packets')\n",
    "\n",
    "plt.xlabel('Metric')\n",
    "plt.ylabel('Value')\n",
    "plt.title('Overall Average End-to-End Delay and Total Transmitted Packets')\n",
    "plt.legend()\n",
    "plt.grid(True)\n",
    "plt.show()\n"
   ]
  },
  {
   "cell_type": "markdown",
   "metadata": {},
   "source": [
    "# Energy Consumption"
   ]
  },
  {
   "cell_type": "markdown",
   "metadata": {},
   "source": [
    "**The presented bar chart illustrates the energy consumption across Sky nodes, emphasizing key parameters: AVG ON (Average Active Time), AVG TX (Average Transmit), AVG RX (Average Receive), and AVG INT (Average Idle/Standby). These metrics encapsulate critical aspects of energy utilization in wireless sensor networks. AVG ON signifies the duration of active operation, while AVG TX and AVG RX quantify energy spent in data transmission and reception. AVG INT represents energy consumption during idle states. The visualization provides a concise overview, aiding in the assessment of energy distribution patterns, crucial for optimizing the efficiency and performance of wireless nodes in terms of power consumption.**"
   ]
  },
  {
   "cell_type": "code",
   "execution_count": 8,
   "metadata": {},
   "outputs": [
    {
     "data": {
      "image/png": "[encoded data removed]",
      "text/plain": [
       "<Figure size 576x432 with 1 Axes>"
      ]
     },
     "metadata": {},
     "output_type": "display_data"
    }
   ],
   "source": [
    "import matplotlib.pyplot as plt\n",
    "import seaborn as sns\n",
    "\n",
    "data = {\n",
    "    'AVG ON': 2.84,\n",
    "    'AVG TX': 1.13,\n",
    "    'AVG RX': 0.23,\n",
    "    'AVG INT': 0.29,\n",
    "    'Sky_1 ON': 5.68,\n",
    "    'Sky_1 TX': 2.38,\n",
    "    'Sky_1 RX': 0.48,\n",
    "    'Sky_1 INT': 0.56,\n",
    "    'Sky_2 ON': 2.57,\n",
    "    'Sky_2 TX': 1.02,\n",
    "    'Sky_2 RX': 0.23,\n",
    "    'Sky_2 INT': 0.25,\n",
    "    'Sky_3 ON': 2.66,\n",
    "    'Sky_3 TX': 1.22,\n",
    "    'Sky_3 RX': 0.16,\n",
    "    'Sky_3 INT': 0.19,\n",
    "    'Sky_4 ON': 3.01,\n",
    "    'Sky_4 TX': 1.43,\n",
    "    'Sky_4 RX': 0.14,\n",
    "    'Sky_4 INT': 0.29,\n",
    "    'Sky_5 ON': 2.27,\n",
    "    'Sky_5 TX': 0.70,\n",
    "    'Sky_5 RX': 0.23,\n",
    "    'Sky_5 INT': 0.27,\n",
    "    'Sky_6 ON': 3.10,\n",
    "    'Sky_6 TX': 1.26,\n",
    "    'Sky_6 RX': 0.28,\n",
    "    'Sky_6 INT': 0.45,\n",
    "    'Sky_7 ON': 2.57,\n",
    "    'Sky_7 TX': 1.05,\n",
    "    'Sky_7 RX': 0.14,\n",
    "    'Sky_7 INT': 0.30,\n",
    "    'Sky_8 ON': 1.98,\n",
    "    'Sky_8 TX': 0.64,\n",
    "    'Sky_8 RX': 0.16,\n",
    "    'Sky_8 INT': 0.16,\n",
    "    'Sky_9 ON': 2.83,\n",
    "    'Sky_9 TX': 1.26,\n",
    "    'Sky_9 RX': 0.22,\n",
    "    'Sky_9 INT': 0.23,\n",
    "    'Sky_10 ON': 2.46,\n",
    "    'Sky_10 TX': 0.92,\n",
    "    'Sky_10 RX': 0.21,\n",
    "    'Sky_10 INT': 0.27,\n",
    "    'Sky_11 ON': 2.15,\n",
    "    'Sky_11 TX': 0.56,\n",
    "    'Sky_11 RX': 0.29,\n",
    "    'Sky_11 INT': 0.24\n",
    "}\n",
    "\n",
    "# Extract average energy consumption values for 'AVG ON', 'AVG TX', 'AVG RX', and 'AVG INT'\n",
    "avg_on = sum(data[f'Sky_{i} ON'] for i in range(1, 12)) / 11\n",
    "avg_tx = sum(data[f'Sky_{i} TX'] for i in range(1, 12)) / 11\n",
    "avg_rx = sum(data[f'Sky_{i} RX'] for i in range(1, 12)) / 11\n",
    "avg_int = sum(data[f'Sky_{i} INT'] for i in range(1, 12)) / 11\n",
    "\n",
    "# Set seaborn style for better aesthetics\n",
    "sns.set(style='whitegrid')\n",
    "\n",
    "# Plotting\n",
    "plt.figure(figsize=(8, 6))\n",
    "palette = sns.color_palette(\"pastel\", 4)\n",
    "\n",
    "plt.bar(['AVG ON', 'AVG TX', 'AVG RX', 'AVG INT'], [avg_on, avg_tx, avg_rx, avg_int], color=palette)\n",
    "plt.xlabel('Metrics')\n",
    "plt.ylabel('Average Energy Consumption (%)')\n",
    "plt.title('Average Energy Consumption for AVG ON, AVG TX, AVG RX, and AVG INT across 11 Sky Nodes')\n",
    "plt.tight_layout()\n",
    "plt.show()\n"
   ]
  }
 ],
 "metadata": {
  "kernelspec": {
   "display_name": "Python 3",
   "language": "python",
   "name": "python3"
  },
  "language_info": {
   "codemirror_mode": {
    "name": "ipython",
    "version": 3
   },
   "file_extension": ".py",
   "mimetype": "text/x-python",
   "name": "python",
   "nbconvert_exporter": "python",
   "pygments_lexer": "ipython3",
   "version": "3.11.4"
  }
 },
 "nbformat": 4,
 "nbformat_minor": 2
}
